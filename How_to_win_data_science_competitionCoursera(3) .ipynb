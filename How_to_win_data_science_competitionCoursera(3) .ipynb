{
  "cells": [
    {
      "metadata": {
        "trusted": true
      },
      "cell_type": "code",
      "source": "import numpy as np \nimport pandas as pd\nfrom sklearn.tree import DecisionTreeClassifier\nfrom sklearn import preprocessing\nfrom sklearn.model_selection import train_test_split\nfrom sklearn import metrics\nimport matplotlib.pyplot as plt\nfrom sklearn.neighbors import KNeighborsClassifier\nimport datetime as dt\nfrom sklearn.metrics import f1_score\nfrom sklearn.linear_model import Ridge\nfrom sklearn.model_selection import GridSearchCV",
      "execution_count": null,
      "outputs": []
    },
    {
      "metadata": {
        "trusted": true
      },
      "cell_type": "code",
      "source": "smpl_sub = pd.read_csv('sample_submission.csv',index_col='ID')\nitem = pd.read_csv('items.csv')\ns_train = pd.read_csv('sales_train.csv')\ns_train['item_cnt_day'] = s_train['item_cnt_day'].astype('int')\n# s_train['date'] = pd.to_datetime(s_train['date']).map(dt.datetime.toordinal)\n# s_train = s_train.drop(['date','date_block_num'],axis = 1)",
      "execution_count": null,
      "outputs": []
    },
    {
      "metadata": {
        "trusted": true
      },
      "cell_type": "code",
      "source": "# dt.datetime.toordinal(pd.to_datetime(s_train['date']))\n# s_train.loc[2,'date']\n# s_train[(s_train['item_cnt_day']==2.0)]",
      "execution_count": null,
      "outputs": []
    },
    {
      "metadata": {
        "trusted": true
      },
      "cell_type": "code",
      "source": "test = pd.read_csv('test.csv')\ntest = test.set_index('ID')\nit_cat = pd.read_csv('item_categories.csv')\nshop = pd.read_csv('shops.csv')\ns_train = s_train.drop(['date'],axis = 1)\ns_train.head(3)",
      "execution_count": null,
      "outputs": []
    },
    {
      "metadata": {
        "trusted": true
      },
      "cell_type": "code",
      "source": "item.head(3)",
      "execution_count": null,
      "outputs": []
    },
    {
      "metadata": {
        "trusted": true
      },
      "cell_type": "code",
      "source": "it_cat.head(3)",
      "execution_count": null,
      "outputs": []
    },
    {
      "metadata": {
        "trusted": true
      },
      "cell_type": "code",
      "source": "cd = test.copy()\ncd['item_cnt_month'] = -1000.9\ntest",
      "execution_count": null,
      "outputs": []
    },
    {
      "metadata": {
        "trusted": true
      },
      "cell_type": "code",
      "source": "# test[(test['item_id']==5320)]\n# len(cd)\n# ef = s_train[['shop_id','item_id','date_block_num','item_price']]\n# ef_grp = ef.groupby(['shop_id','item_id'])\n# cd",
      "execution_count": null,
      "outputs": []
    },
    {
      "metadata": {
        "trusted": true
      },
      "cell_type": "code",
      "source": "shop.head(3)",
      "execution_count": null,
      "outputs": []
    },
    {
      "metadata": {
        "trusted": true
      },
      "cell_type": "code",
      "source": "smpl_sub.head(3)",
      "execution_count": null,
      "outputs": []
    },
    {
      "metadata": {
        "trusted": true
      },
      "cell_type": "code",
      "source": "# s_train[(s_train['item_cnt_day']>5)]",
      "execution_count": null,
      "outputs": []
    },
    {
      "metadata": {
        "trusted": true
      },
      "cell_type": "code",
      "source": "# sgroup = s_train.groupby(['shop_id','item_id'])\n# tgroup = test.groupby('shop_id')",
      "execution_count": null,
      "outputs": []
    },
    {
      "metadata": {
        "trusted": true
      },
      "cell_type": "code",
      "source": "# from sklearn.preprocessing import OneHotEncoder\n# from sklearn.preprocessing import LabelBinarizer\n# type(sgroup.get_group(5))\n# tgroup.get_group(1)\n# y = LabelBinarizer(ab.item_name)\n# print(y)\n# ab.corr()\nsgroup = s_train.groupby('item_id')\ntgroup = test.groupby('shop_id')",
      "execution_count": null,
      "outputs": []
    },
    {
      "metadata": {
        "trusted": true
      },
      "cell_type": "code",
      "source": "# sgroup.get_group((5,5320))\nn = sgroup.groups.keys()",
      "execution_count": null,
      "outputs": []
    },
    {
      "metadata": {
        "trusted": true
      },
      "cell_type": "code",
      "source": "# for i in range(len(cd)):\n#     a = test.loc[i,'shop_id']\n#     b = test.loc[i,'item_id']\n#     group = sgroup.get_group((a,b))\n#     if (a in test.shop_id.unique())&(b in tgroup.get_group(a).item_id):\n#         if len(group)>2:\n#             neigh = KNeighborsClassifier(n_neighbors = 2)\n#             X = preprocessing.StandardScaler().fit_transform(group[['date_block_num','item_price']].values)\n#             X_train, X_test, y_train, y_test = train_test_split( X, group['item_cnt_day'].values, test_size=0, shuffle = False)\n#             neigh.fit(X_train,y_train)\n#             v = neigh.predict([[ef_grp.get_group((a,b))['date_block_num'].max()+1,ef_grp.get_group((a,b))['item_price'].mean()]])\n#             cd.loc[i,'item_cnt_month'] = v\n# #           print(f1_score(y_test, neigh.predict(X_test)))\n# #         elif \n# #         else:\n# #           print(f1_score(y_test, group2['item_cnt_day']))",
      "execution_count": null,
      "outputs": []
    },
    {
      "metadata": {
        "trusted": true
      },
      "cell_type": "code",
      "source": "parameters={'alpha':[1e-8,1e-3,1e-2,1,5,10,20,30,40]}\nridge=Ridge()\nfor i in range(len(test)):\n    a = test.loc[i,'shop_id']\n    b = test.loc[i,'item_id']\n    if b in n:\n        group = sgroup.get_group(b)\n        if len(group)>=4:\n#             neigh = KNeighborsClassifier(n_neighbors = 4,weights = 'distance')\n#             regr = linear_model.LinearRegression()\n            ridge_regressor=GridSearchCV(ridge,parameters,scoring='neg_mean_squared_error',cv=4)\n            X_train = group[['date_block_num','item_price']].values\n#             X_train = preprocessing.StandardScaler().fit_transform(group[['shop_id','item_price']].values)\n#             X_train, X_test, y_train, y_test = train_test_split( X, group['item_cnt_day'].values, test_size=0, shuffle = False)\n            y_train = group['item_cnt_day'].values\n#             neigh.fit(X_train,y_train)\n#             regr.fit(X_train,y_train)\n            ridge_regressor.fit(X_train,y_train)\n            if a in group['shop_id'].unique():\n                v = np.round(ridge_regressor.predict([[34, group[group['shop_id']==a]['item_price'].mean()]]))\n                if v<-1:\n                    v = -1\n                cd.loc[i,'item_cnt_month'] = v\n                print(v,\" first \")\n            else:\n#                 v = np.round(ridge_regressor.predict([[34, group['item_price'].mean()]]))\n                cd.loc[i,'item_cnt_month'] = 0\n                print(0,\" second \")\n        else:\n            cd.loc[i,'item_cnt_month'] = round(group['item_cnt_day'].mean())\n            print(round(group['item_cnt_day'].mean()),\" third \")\n#             print(group['item_cnt_day'].mean())\n    else:\n#         v = s_train[s_train['shop_id']==a]['item_cnt_day'].mean()\n        cd.loc[i,'item_cnt_month'] = 0\n        print(0,\" fourth \")",
      "execution_count": null,
      "outputs": []
    },
    {
      "metadata": {
        "trusted": true
      },
      "cell_type": "code",
      "source": "de = cd[['item_cnt_month']]",
      "execution_count": null,
      "outputs": []
    },
    {
      "metadata": {
        "trusted": true
      },
      "cell_type": "code",
      "source": "de['item_cnt_month'] = round(de['item_cnt_month'])\nde",
      "execution_count": null,
      "outputs": []
    },
    {
      "metadata": {
        "trusted": true
      },
      "cell_type": "code",
      "source": "de.to_csv('submssn7.csv')",
      "execution_count": null,
      "outputs": []
    },
    {
      "metadata": {
        "trusted": true
      },
      "cell_type": "code",
      "source": "# de[de['item_cnt_month']==0]",
      "execution_count": null,
      "outputs": []
    },
    {
      "metadata": {
        "trusted": true
      },
      "cell_type": "code",
      "source": "_",
      "execution_count": null,
      "outputs": []
    }
  ],
  "metadata": {
    "kernelspec": {
      "name": "python36",
      "display_name": "Python 3.6",
      "language": "python"
    },
    "language_info": {
      "mimetype": "text/x-python",
      "nbconvert_exporter": "python",
      "name": "python",
      "pygments_lexer": "ipython3",
      "version": "3.6.6",
      "file_extension": ".py",
      "codemirror_mode": {
        "version": 3,
        "name": "ipython"
      }
    }
  },
  "nbformat": 4,
  "nbformat_minor": 2
}